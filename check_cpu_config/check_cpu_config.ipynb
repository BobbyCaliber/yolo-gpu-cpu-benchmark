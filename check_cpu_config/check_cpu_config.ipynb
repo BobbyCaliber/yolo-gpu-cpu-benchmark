{
 "cells": [
  {
   "cell_type": "code",
   "execution_count": 28,
   "id": "cca03ac9-2182-4f39-9b61-d730f3d3522e",
   "metadata": {
    "pycharm": {
     "name": "#%%\n"
    }
   },
   "outputs": [],
   "source": [
    "import psutil\n",
    "import cpuinfo\n",
    "import pandas as pd\n",
    "\n",
    "# Получение общей информации о CPU\n",
    "cpu_info = cpuinfo.get_cpu_info()\n",
    "dict = {}\n",
    "processor = cpu_info.get('brand_raw')\n",
    "freq = psutil.cpu_freq().current\n",
    "freq_max = psutil.cpu_freq().max\n",
    "cores = psutil.cpu_count(logical=False)\n",
    "threads = psutil.cpu_count(logical=True)\n",
    "l1_cache = cpu_info.get('l1_data_cache_size', 'Unknown')\n",
    "l1_instruction_cache_size = cpu_info.get('l1_instruction_cache_size', 'Unknown')\n",
    "l2_cache_per_core = cpu_info.get('l2_cache_size', 'Unknown') / cores / 1e3\n",
    "l2_cache_all = cpu_info.get('l2_cache_size', 'Unknown') / 1e3\n",
    "l3_cache_all = cpu_info.get('l3_cache_size', 'Unknown') / 1e6\n",
    "smp = psutil.cpu_count(logical=True) > psutil.cpu_count(logical=False)\n",
    "\n",
    "dict['Processor'] = processor\n",
    "dict['Frequency (MHz)'] = freq\n",
    "dict['Max Frequency (MHz)'] = freq_max\n",
    "dict['Cores'] = cores\n",
    "dict['Threads'] = threads\n",
    "dict['l1_cache_size (KB)'] = l1_cache\n",
    "dict['l1_instruction_cache_size (KB)'] = l1_instruction_cache_size\n",
    "dict['l2_cache_size_per_core (KB)'] = l2_cache_per_core\n",
    "dict['l2_cache_size (KB)'] = l2_cache_all\n",
    "dict['l3_cache_size (MB)'] = l3_cache_all\n",
    "dict['SMP Supported'] = smp\n",
    "\n",
    "\n",
    "result = pd.DataFrame(dict, index=[0])\n",
    "result.to_csv('cpu_config.csv', index=False)"
   ]
  }
 ],
 "metadata": {
  "kernelspec": {
   "display_name": "Python 3 (ipykernel)",
   "language": "python",
   "name": "python3"
  },
  "language_info": {
   "codemirror_mode": {
    "name": "ipython",
    "version": 3
   },
   "file_extension": ".py",
   "mimetype": "text/x-python",
   "name": "python",
   "nbconvert_exporter": "python",
   "pygments_lexer": "ipython3",
   "version": "3.9.19"
  }
 },
 "nbformat": 4,
 "nbformat_minor": 5
}